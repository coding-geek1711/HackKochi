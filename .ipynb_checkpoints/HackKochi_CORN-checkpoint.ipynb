{
 "cells": [
  {
   "cell_type": "code",
   "execution_count": 77,
   "metadata": {},
   "outputs": [],
   "source": [
    "import cv2\n",
    "import os, shutil\n",
    "import numpy as np"
   ]
  },
  {
   "cell_type": "code",
   "execution_count": 78,
   "metadata": {},
   "outputs": [],
   "source": [
    "image = cv2.imread(\"test_image.jpg\")\n",
    "image = cv2.resize(image, (720, 720))\n",
    "# cv2.imshow(\"image\", image)\n",
    "# cv2.waitKey(0)\n",
    "# cv2.destroyAllWindows()"
   ]
  },
  {
   "cell_type": "code",
   "execution_count": 79,
   "metadata": {},
   "outputs": [],
   "source": [
    "GRAY_IMAGE = cv2.cvtColor(image, cv2.COLOR_RGB2GRAY)\n",
    "_ , mask = cv2.threshold(GRAY_IMAGE, 170, 255, cv2.THRESH_BINARY_INV)"
   ]
  },
  {
   "cell_type": "markdown",
   "metadata": {},
   "source": [
    "# EROSION"
   ]
  },
  {
   "cell_type": "code",
   "execution_count": 80,
   "metadata": {},
   "outputs": [],
   "source": [
    "kernel = np.ones((3, 3), np.uint8)\n",
    "erosion = cv2.erode(mask, kernel)\n",
    "\n",
    "cv2.imshow(\"EROSION\", erosion)\n",
    "cv2.waitKey(0)\n",
    "cv2.destroyAllWindows()"
   ]
  },
  {
   "cell_type": "code",
   "execution_count": 81,
   "metadata": {},
   "outputs": [],
   "source": [
    "contours, heirarchy = cv2.findContours(dilation, cv2.RETR_TREE, cv2.CHAIN_APPROX_SIMPLE)\n",
    "\n",
    "areas = [cv2.contourArea(c) for c in contours]\n",
    "# print(areas)\n",
    "\n",
    "croppedImages = []\n",
    "\n",
    "for contour, area in zip(contours, areas):\n",
    "    if area <= 1500:\n",
    "        x, y, w, h = cv2.boundingRect(contour)\n",
    "#         cv2.rectangle(image, (x - 5, y - 5), (x + w + 5, y + h + 5), (0, 255, 0), 2)\n",
    "        croppedImages.append(image[y - 5: y + h + 5, x -5: x + w + 5])\n",
    "    \n",
    "# save to directory\n",
    "if not os.path.exists(\"data\"):\n",
    "    os.mkdir(\"data\")\n",
    "\n",
    "for image_number, img in enumerate(croppedImages):\n",
    "    cv2.imwrite(f\"data/{image_number}.jpg\", img)\n",
    "\n",
    "# draw boxes on original image    \n",
    "for contour, area in zip(contours, areas):\n",
    "    if area <= 1500:\n",
    "        x, y, w, h = cv2.boundingRect(contour)\n",
    "        cv2.rectangle(image, (x - 5, y - 5), (x + w + 5, y + h + 5), (0, 255, 0), 2)\n",
    "#         croppedImages.append(image[y - 5: y + h + 5, x -5: x + w + 5])\n",
    "cv2.imshow(\"Image\", image)\n",
    "cv2.waitKey(0)\n",
    "cv2.destroyAllWindows()"
   ]
  },
  {
   "cell_type": "markdown",
   "metadata": {},
   "source": [
    "# Save To Directory"
   ]
  },
  {
   "cell_type": "code",
   "execution_count": 76,
   "metadata": {},
   "outputs": [],
   "source": []
  },
  {
   "cell_type": "code",
   "execution_count": null,
   "metadata": {},
   "outputs": [],
   "source": []
  }
 ],
 "metadata": {
  "kernelspec": {
   "display_name": "tensoflow1",
   "language": "python",
   "name": "tensorflow1"
  },
  "language_info": {
   "codemirror_mode": {
    "name": "ipython",
    "version": 3
   },
   "file_extension": ".py",
   "mimetype": "text/x-python",
   "name": "python",
   "nbconvert_exporter": "python",
   "pygments_lexer": "ipython3",
   "version": "3.7.6"
  }
 },
 "nbformat": 4,
 "nbformat_minor": 4
}
