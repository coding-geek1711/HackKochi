{
 "cells": [
  {
   "cell_type": "markdown",
   "metadata": {},
   "source": [
    "# Preprocess Training Data"
   ]
  },
  {
   "cell_type": "code",
   "execution_count": 11,
   "metadata": {},
   "outputs": [],
   "source": [
    "import cv2\n",
    "import os, shutil\n",
    "import numpy"
   ]
  },
  {
   "cell_type": "code",
   "execution_count": 12,
   "metadata": {},
   "outputs": [],
   "source": [
    "lis = os.listdir(\"dataset/training_Set/Good\")"
   ]
  },
  {
   "cell_type": "code",
   "execution_count": 13,
   "metadata": {},
   "outputs": [],
   "source": [
    "image = cv2.imread(f\"dataset/training_Set/Good/{lis[1]}\")\n",
    "image = cv2.resize(image, (640, 640))\n",
    "cv2.imshow('IMAGE', image)\n",
    "cv2.waitKey(0)\n",
    "cv2.destroyAllWindows()"
   ]
  },
  {
   "cell_type": "code",
   "execution_count": 14,
   "metadata": {},
   "outputs": [],
   "source": [
    "cv2.imshow(\"IMaE\", image[0:160, 160:320])    # [Y, X]\n",
    "cv2.waitKey(0)\n",
    "cv2.destroyAllWindows()"
   ]
  },
  {
   "cell_type": "code",
   "execution_count": 15,
   "metadata": {},
   "outputs": [],
   "source": [
    "croppedImages = []\n",
    "\n",
    "for i in range(4):\n",
    "    Y = (i * 160, i * 160 + 160)\n",
    "    for j in range(4):\n",
    "        X = (j * 160, j * 160 + 160)\n",
    "        croppedImages.append(image[Y[0]:Y[1], X[0]:X[1]])"
   ]
  },
  {
   "cell_type": "code",
   "execution_count": 20,
   "metadata": {},
   "outputs": [],
   "source": [
    "if not os.path.exists(\"DATASET_NEW\"):\n",
    "    os.mkdir(\"DATASET_NEW\")\n",
    "if not os.path.exists(\"DATASET_NEW/GOOD\"):\n",
    "    os.mkdir(\"DATASET_NEW/GOOD\")\n",
    "\n",
    "for image_number, image in enumerate(croppedImages):\n",
    "    cv2.imwrite(f\"DATASET_NEW/GOOD/{image_number}.jpg\", image)"
   ]
  },
  {
   "cell_type": "code",
   "execution_count": 30,
   "metadata": {},
   "outputs": [],
   "source": [
    "PATH = \"dataset/training_set/Worst\"\n",
    "PATH_NEW = \"DATASET_NEW/WORSE\"\n",
    "for number, file in enumerate(os.listdir(PATH)):\n",
    "    image = cv2.imread(PATH + f\"/{file}\")\n",
    "    image = cv2.resize(image, (640, 640))\n",
    "    croppedImages = []\n",
    "    for i in range(4):\n",
    "        Y = (i * 160, i * 160 + 160)\n",
    "        for j in range(4):\n",
    "            X = (j * 160, j * 160 + 160)\n",
    "            croppedImages.append(image[Y[0]:Y[1], X[0]:X[1]])\n",
    "    lenEnumerate = len(os.listdir(PATH_NEW))\n",
    "    for image_number, image in enumerate(croppedImages, lenEnumerate + 1):\n",
    "        cv2.imwrite(f\"{PATH_NEW}/{image_number}.jpg\", image)"
   ]
  },
  {
   "cell_type": "code",
   "execution_count": 24,
   "metadata": {},
   "outputs": [],
   "source": []
  },
  {
   "cell_type": "code",
   "execution_count": null,
   "metadata": {},
   "outputs": [],
   "source": []
  }
 ],
 "metadata": {
  "kernelspec": {
   "display_name": "tensoflow1",
   "language": "python",
   "name": "tensorflow1"
  },
  "language_info": {
   "codemirror_mode": {
    "name": "ipython",
    "version": 3
   },
   "file_extension": ".py",
   "mimetype": "text/x-python",
   "name": "python",
   "nbconvert_exporter": "python",
   "pygments_lexer": "ipython3",
   "version": "3.7.6"
  }
 },
 "nbformat": 4,
 "nbformat_minor": 4
}
