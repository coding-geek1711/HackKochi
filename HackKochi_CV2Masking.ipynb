{
 "cells": [
  {
   "cell_type": "code",
   "execution_count": 382,
   "metadata": {},
   "outputs": [],
   "source": [
    "import cv2\n",
    "import numpy as np"
   ]
  },
  {
   "cell_type": "markdown",
   "metadata": {},
   "source": [
    "# Read and Display CV2 Image"
   ]
  },
  {
   "cell_type": "code",
   "execution_count": 383,
   "metadata": {},
   "outputs": [],
   "source": [
    "image = cv2.imread(\"image2.jpeg\")\n",
    "_ , mask = cv2.threshold(image, 130, 130, cv2.THRESH_BINARY_INV)\n",
    "\n",
    "cv2.imshow(\"erode\", mask)\n",
    "cv2.waitKey(0)\n",
    "cv2.destroyAllWindows()"
   ]
  },
  {
   "cell_type": "code",
   "execution_count": 384,
   "metadata": {},
   "outputs": [],
   "source": [
    "kernel = np.ones((2, 2), np.uint8)\n",
    "erode = cv2.erode(mask, kernel)"
   ]
  },
  {
   "cell_type": "code",
   "execution_count": 385,
   "metadata": {},
   "outputs": [],
   "source": [
    "c, r, col = mask.shape\n",
    "\n",
    "hsv = cv2.cvtColor(mask, cv2.COLOR_RGB2HSV)\n",
    "hsv_channels = cv2.split(hsv)\n",
    "\n",
    "for i in range(c):\n",
    "    for j in range(r):\n",
    "        h = hsv_channels[0][i][j]\n",
    "        \n",
    "        if h != 0:\n",
    "            hsv_channels[2][i][j] == 255\n",
    "\n",
    "_ , erode = cv2.threshold(hsv_channels[2], 128, 255, cv2.THRESH_BINARY)"
   ]
  },
  {
   "cell_type": "code",
   "execution_count": 386,
   "metadata": {},
   "outputs": [],
   "source": [
    "kernel = np.ones((2, 2), np.uint8)\n",
    "dilation = cv2.dilate(erode, kernel)\n",
    "\n",
    "kernel = np.ones((5, 5), np.uint8)\n",
    "erosion = cv2.erode(erode, kernel)\n",
    "\n",
    "\n",
    "cv2.imshow(\"erode\", erosion)\n",
    "cv2.waitKey(0)\n",
    "cv2.destroyAllWindows()"
   ]
  },
  {
   "cell_type": "code",
   "execution_count": 387,
   "metadata": {},
   "outputs": [],
   "source": [
    "# kernel = np.ones((2, 2), np.uint8)\n",
    "# dilation = cv2.dilate(erode, kernel)\n",
    "\n",
    "# kernel = np.ones((10, 10), np.uint8)\n",
    "# erosion = cv2.erode(erode, kernel)"
   ]
  },
  {
   "cell_type": "code",
   "execution_count": 388,
   "metadata": {},
   "outputs": [
    {
     "name": "stdout",
     "output_type": "stream",
     "text": [
      "[165.5, 199.0, 145.5, 146.5, 166.5, 141.0, 196.0, 164.5, 108.0, 210.0, 162.5, 174.5, 165.0, 179.0, 229.5, 199.5, 204.5, 134.5, 154.0, 219.0, 167.5, 124.0, 168.0, 184.5, 173.0, 156.5, 188.5, 232.0, 196.5, 395.0, 159.0, 196.0]\n"
     ]
    }
   ],
   "source": [
    "contours, heirarchy = cv2.findContours(erosion, cv2.RETR_TREE, cv2.CHAIN_APPROX_SIMPLE)\n",
    "\n",
    "img = cv2.imread(\"image2.jpeg\")\n",
    "\n",
    "areas = [cv2.contourArea(c) for c in contours]\n",
    "print(areas)\n",
    "\n",
    "flag = 0\n",
    "for contour, area in zip(contours, areas):\n",
    "    if area >= 50:\n",
    "        x, y, w, h = cv2.boundingRect(contour)\n",
    "        cv2.rectangle(img, (x, y), (x + w, y + h), (0, 255, 0), 2)\n",
    "    #     cv2.putText(img, flag, (x, y-10), cv2.FONT_HERSHEY_SIMPLEX, 1, (255, 0, 0))\n",
    "\n",
    "\n",
    "# img = cv2.imread(\"image.jpeg\")\n",
    "# dilation = cv2.drawContours(img, contours, -1, (0,255,0), 3)\n",
    "cv2.imshow(\"image\", img)\n",
    "cv2.waitKey(0)\n",
    "cv2.destroyAllWindows()"
   ]
  },
  {
   "cell_type": "code",
   "execution_count": 312,
   "metadata": {},
   "outputs": [
    {
     "data": {
      "text/plain": [
       "15677.0"
      ]
     },
     "execution_count": 312,
     "metadata": {},
     "output_type": "execute_result"
    }
   ],
   "source": []
  },
  {
   "cell_type": "code",
   "execution_count": 313,
   "metadata": {},
   "outputs": [
    {
     "data": {
      "text/plain": [
       "195.9625"
      ]
     },
     "execution_count": 313,
     "metadata": {},
     "output_type": "execute_result"
    }
   ],
   "source": []
  },
  {
   "cell_type": "code",
   "execution_count": null,
   "metadata": {},
   "outputs": [],
   "source": []
  }
 ],
 "metadata": {
  "kernelspec": {
   "display_name": "Python 3",
   "language": "python",
   "name": "python3"
  },
  "language_info": {
   "codemirror_mode": {
    "name": "ipython",
    "version": 3
   },
   "file_extension": ".py",
   "mimetype": "text/x-python",
   "name": "python",
   "nbconvert_exporter": "python",
   "pygments_lexer": "ipython3",
   "version": "3.7.4"
  }
 },
 "nbformat": 4,
 "nbformat_minor": 4
}
